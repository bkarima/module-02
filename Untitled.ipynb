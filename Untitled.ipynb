{
 "cells": [
  {
   "cell_type": "code",
   "execution_count": 2,
   "id": "3967f246",
   "metadata": {},
   "outputs": [
    {
     "name": "stdout",
     "output_type": "stream",
     "text": [
      "What is the student's last name? eyad\n",
      "What is the student's first name? wael\n",
      "Retrieving records for wael eyad.  Please stand by...\n",
      "What is wael's GPA? 3.5\n",
      "wael eyad is on the Dean's List.\n"
     ]
    }
   ],
   "source": [
    "#Authoe Name:karima\n",
    "\n",
    "student_first_name = \"\"\n",
    "student_last_name = \"\"\n",
    "gpa = float\n",
    "\n",
    "\n",
    "student_last_name = input(\"What is the student's last name? \")\n",
    "\n",
    "if student_last_name == \"ZZZ\":\n",
    "    print(\"Error, the last name you entered cannot be 'ZZZ'.  Please re-enter last name. \")\n",
    "\n",
    "\n",
    "student_first_name = input(\"What is the student's first name? \")\n",
    "print(\"Retrieving records for \" + student_first_name + \" \" + student_last_name + \".  Please stand by...\")\n",
    "\n",
    "gpa = float(input(\"What is \" + student_first_name + \"'s GPA? \"))\n",
    "\n",
    "if gpa >= 3.5:\n",
    "    print(student_first_name + \" \" + student_last_name + \" is on the Dean's List.\")\n",
    "    \n",
    "elif gpa >= 3.25:\n",
    "    print(student_first_name + \" \" + student_last_name + \" made the Honor Roll.\")"
   ]
  },
  {
   "cell_type": "code",
   "execution_count": null,
   "id": "c47783d1",
   "metadata": {},
   "outputs": [],
   "source": []
  }
 ],
 "metadata": {
  "kernelspec": {
   "display_name": "Python 3 (ipykernel)",
   "language": "python",
   "name": "python3"
  },
  "language_info": {
   "codemirror_mode": {
    "name": "ipython",
    "version": 3
   },
   "file_extension": ".py",
   "mimetype": "text/x-python",
   "name": "python",
   "nbconvert_exporter": "python",
   "pygments_lexer": "ipython3",
   "version": "3.11.5"
  }
 },
 "nbformat": 4,
 "nbformat_minor": 5
}
